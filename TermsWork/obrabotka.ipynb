{
 "cells": [
  {
   "cell_type": "code",
   "execution_count": 3,
   "metadata": {},
   "outputs": [],
   "source": [
    "import re\n",
    "\n",
    "input_file_path = 'MathTerm.txt'\n",
    "output_file_path = 'output_math_dictionary.txt'\n",
    "\n",
    "# Открываем файл для чтения и создаем новый файл для записи\n",
    "with open(input_file_path, 'r', encoding='utf-8') as input_file, open(output_file_path, 'w', encoding='utf-8') as output_file:\n",
    "    # Считываем весь текст из файла\n",
    "    text = input_file.read()\n",
    "\n",
    "    # Используем регулярное выражение для поиска пар слов\n",
    "    matches = re.finditer(r'([^Ø]+)\\s*–\\s*([^Ø]+)\\n', text, re.DOTALL | re.MULTILINE)\n",
    "\n",
    "    # Если найдены совпадения, записываем в новый файл\n",
    "    for match in matches:\n",
    "        russian_word = match.group(1).strip()\n",
    "        english_word = match.group(2).strip()\n",
    "        output_file.write(f'{russian_word} - {english_word}\\n')\n"
   ]
  }
 ],
 "metadata": {
  "kernelspec": {
   "display_name": "Python 3",
   "language": "python",
   "name": "python3"
  },
  "language_info": {
   "codemirror_mode": {
    "name": "ipython",
    "version": 3
   },
   "file_extension": ".py",
   "mimetype": "text/x-python",
   "name": "python",
   "nbconvert_exporter": "python",
   "pygments_lexer": "ipython3",
   "version": "3.11.5"
  },
  "orig_nbformat": 4
 },
 "nbformat": 4,
 "nbformat_minor": 2
}
