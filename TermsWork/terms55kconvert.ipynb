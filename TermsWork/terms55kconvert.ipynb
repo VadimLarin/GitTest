{
 "cells": [
  {
   "cell_type": "code",
   "execution_count": 6,
   "metadata": {},
   "outputs": [],
   "source": [
    "import re\n",
    "\n",
    "def process_dictionary(input_file, output_file):\n",
    "    with open(input_file, 'r', encoding='utf-8') as file:\n",
    "        content = file.read()\n",
    "\n",
    "    # Используем регулярное выражение для извлечения терминов и их переводов\n",
    "    term_matches = re.finditer(r'([^\\n]+?)\\s*~\\s*([^\\n]+)', content)\n",
    "\n",
    "    # Записываем результат в новый файл\n",
    "    with open(output_file, 'w', encoding='utf-8') as file:\n",
    "        for match in term_matches:\n",
    "            english_term = match.group(1).strip()\n",
    "            russian_translation = match.group(2).strip()\n",
    "\n",
    "            # Проверяем, что термин и перевод не пустые\n",
    "            if english_term and russian_translation:\n",
    "                file.write(f\"{english_term} ~ {russian_translation}\\n\")\n",
    "\n",
    "# Пример использования\n",
    "input_file_path = 'terms55k.txt'\n",
    "output_file_path = 'tesk55k_3.txt'\n",
    "\n",
    "process_dictionary(input_file_path, output_file_path)"
   ]
  }
 ],
 "metadata": {
  "kernelspec": {
   "display_name": "Python 3",
   "language": "python",
   "name": "python3"
  },
  "language_info": {
   "codemirror_mode": {
    "name": "ipython",
    "version": 3
   },
   "file_extension": ".py",
   "mimetype": "text/x-python",
   "name": "python",
   "nbconvert_exporter": "python",
   "pygments_lexer": "ipython3",
   "version": "3.11.5"
  },
  "orig_nbformat": 4
 },
 "nbformat": 4,
 "nbformat_minor": 2
}
