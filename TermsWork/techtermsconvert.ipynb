{
 "cells": [
  {
   "cell_type": "code",
   "execution_count": 4,
   "metadata": {},
   "outputs": [],
   "source": [
    "import re\n",
    "\n",
    "def process_line(line):\n",
    "    # Используем регулярное выражение для поиска выражений в квадратных скобках\n",
    "    expression_match = re.search(r'\\[.*?\\]', line)\n",
    "    \n",
    "    if expression_match:\n",
    "        # Если найдено совпадение с выражением в квадратных скобках, удаляем его из строки\n",
    "        line = line.replace(expression_match.group(), '')\n",
    "    \n",
    "    # Используем регулярное выражение для поиска выражений перед английским словом\n",
    "    expression_match = re.search(r' (adj\\.|adv\\.|cj\\.|n\\.|num\\.|pl\\.|predic\\.|pref\\.|prp\\.|pron\\.|refl\\.|suf\\.|v\\.)', line)\n",
    "    \n",
    "    if expression_match:\n",
    "        # Если найдено совпадение с выражением, добавляем разделитель перед ним\n",
    "        line = line.replace(expression_match.group(), ' - ' + expression_match.group())\n",
    "    \n",
    "    return line.strip()\n",
    "\n",
    "def main(input_file, output_file):\n",
    "    with open(input_file, 'r', encoding='utf-8') as f:\n",
    "        lines = f.readlines()\n",
    "\n",
    "    processed_lines = [process_line(line) for line in lines]\n",
    "\n",
    "    # Пересоздаем строки, чтобы перед первым английским словом после русского слова был переход на новую строку\n",
    "    processed_lines = [line + '\\n' if not line.startswith('- ') and not line.startswith('[') else line for line in processed_lines]\n",
    "\n",
    "    with open(output_file, 'w', encoding='utf-8') as f:\n",
    "        f.write('\\n'.join(processed_lines))\n",
    "\n",
    "if __name__ == \"__main__\":\n",
    "    input_file = \"techdict.txt\"  # Замените на имя вашего файла\n",
    "    output_file = \"techdictTest.txt\"  # Замените на имя файла для сохранения результата\n",
    "    main(input_file, output_file)\n"
   ]
  },
  {
   "cell_type": "code",
   "execution_count": 8,
   "metadata": {},
   "outputs": [],
   "source": [
    "# Открываем файл для чтения\n",
    "with open('techdictTest.txt', 'r', encoding='utf-8') as file:\n",
    "    lines = file.readlines()\n",
    "\n",
    "# Удаляем пустые строки\n",
    "non_empty_lines = [line.strip() for line in lines if line.strip()]\n",
    "\n",
    "# Открываем файл для записи\n",
    "with open('techdictTest.txt', 'w', encoding='utf-8') as file:\n",
    "    file.write('\\n'.join(non_empty_lines))\n"
   ]
  },
  {
   "cell_type": "code",
   "execution_count": 11,
   "metadata": {},
   "outputs": [],
   "source": [
    "# Открываем файл для чтения\n",
    "with open('techdictTest.txt', 'r', encoding='utf-8') as file:\n",
    "    lines = file.readlines()\n",
    "\n",
    "# Удаляем строки, содержащие только цифры\n",
    "filtered_lines = [line.strip() for line in lines if not line.strip().isdigit()]\n",
    "\n",
    "# Открываем файл для записи\n",
    "with open('techdictTest.txt', 'w', encoding='utf-8') as file:\n",
    "    file.write('\\n'.join(filtered_lines))\n"
   ]
  },
  {
   "cell_type": "code",
   "execution_count": 12,
   "metadata": {},
   "outputs": [],
   "source": [
    "import re\n",
    "\n",
    "# Открываем файл для чтения\n",
    "with open('techdictTest.txt', 'r', encoding='utf-8') as file:\n",
    "    lines = file.readlines()\n",
    "\n",
    "# Удаляем слова, содержащие символы \"[\" и \"]\"\n",
    "filtered_lines = []\n",
    "for line in lines:\n",
    "    words = line.split()\n",
    "    modified_line = ' '.join([word for word in words if '[' not in word and ']' not in word])\n",
    "    filtered_lines.append(modified_line)\n",
    "\n",
    "# Открываем файл для записи\n",
    "with open('techdictTest.txt', 'w', encoding='utf-8') as file:\n",
    "    file.write('\\n'.join(filtered_lines))\n"
   ]
  },
  {
   "cell_type": "code",
   "execution_count": 13,
   "metadata": {},
   "outputs": [],
   "source": [
    "# Открываем файл для чтения\n",
    "with open('techdictTest.txt', 'r', encoding='utf-8') as file:\n",
    "    lines = file.readlines()\n",
    "\n",
    "# Удаляем символы \"@\" и \"#\"\n",
    "filtered_lines = [line.replace('@', '').replace('#', '') for line in lines]\n",
    "\n",
    "# Открываем файл для записи\n",
    "with open('techdictTest.txt', 'w', encoding='utf-8') as file:\n",
    "    file.write(''.join(filtered_lines))\n"
   ]
  },
  {
   "cell_type": "code",
   "execution_count": 16,
   "metadata": {},
   "outputs": [],
   "source": [
    "import re\n",
    "\n",
    "# Открываем файл для чтения\n",
    "with open('techdictTest.txt', 'r', encoding='utf-8') as file:\n",
    "    content = file.read()\n",
    "\n",
    "# Удаляем слова, содержащие указанные символы\n",
    "pattern = re.compile(r'\\b\\w*[ɔɑʌæəðθʧʤʒʃŋıη¥®\\']\\w*\\b', flags=re.IGNORECASE)\n",
    "modified_content = re.sub(pattern, '', content)\n",
    "\n",
    "# Открываем файл для записи\n",
    "with open('techdictTest.txt', 'w', encoding='utf-8') as file:\n",
    "    file.write(modified_content)\n"
   ]
  }
 ],
 "metadata": {
  "kernelspec": {
   "display_name": "Python 3",
   "language": "python",
   "name": "python3"
  },
  "language_info": {
   "codemirror_mode": {
    "name": "ipython",
    "version": 3
   },
   "file_extension": ".py",
   "mimetype": "text/x-python",
   "name": "python",
   "nbconvert_exporter": "python",
   "pygments_lexer": "ipython3",
   "version": "3.11.5"
  },
  "orig_nbformat": 4
 },
 "nbformat": 4,
 "nbformat_minor": 2
}
