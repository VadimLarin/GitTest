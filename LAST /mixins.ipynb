{
 "cells": [
  {
   "cell_type": "code",
   "execution_count": 16,
   "id": "85cdef01-9377-480c-8a68-3a31534b2752",
   "metadata": {},
   "outputs": [],
   "source": [
    "class MixinNameable:\n",
    "    def __init__(self, name) -> None:\n",
    "        self.name = name\n",
    "\n",
    "class MixinJumpable:\n",
    "    def jump(self):\n",
    "        print(self.name + \" умеет прыгать\")\n",
    "    def none_jump(self):\n",
    "        print(self.name + \" не умеет прыгать\")\n",
    "\n",
    "class MixinTalkble:\n",
    "    def talk(self, line):\n",
    "        print(self.name + \" орет на всех: \" + line)\n",
    "\n",
    "class MixinPosable:\n",
    "    def change_pose(self):\n",
    "        print(self.name + \" изменил положение тела\")\n",
    "\n",
    "class MixinFallable:\n",
    "    def fall(self):\n",
    "        print(self.name + \" упал отжался\")\n",
    "\n",
    "class MixinBecomeDustly:\n",
    "    def dustly(self):\n",
    "        print(self.name + \" запылился\")"
   ]
  },
  {
   "cell_type": "code",
   "execution_count": 17,
   "id": "bc2ba0b8-9584-434e-99d5-55a9c3e337f1",
   "metadata": {},
   "outputs": [],
   "source": [
    "class MixinFunkoPop(MixinNameable, MixinBecomeDustly, MixinPosable, MixinFallable):\n",
    "    def __init__(self, name) -> None:\n",
    "        super().__init__(name)\n",
    "\n",
    "class MixinPlayable(MixinNameable, MixinJumpable, MixinPosable, MixinFallable, MixinTalkble):\n",
    "    def __init__(self, name) -> None:\n",
    "        super().__init__(name)"
   ]
  },
  {
   "cell_type": "code",
   "execution_count": 18,
   "id": "fe762565-3df6-4764-b779-5cd634e5fd67",
   "metadata": {},
   "outputs": [],
   "source": [
    "class Character:\n",
    "    def charcter_def(self):\n",
    "        print(self.name + \" заспавнился\")\n",
    "\n",
    "class HarryPotter(Character):\n",
    "    def harry_potter(self):\n",
    "        print(self.name + \" заспавнился\")\n",
    "\n",
    "class Hagrid(Character):\n",
    "    def hagrid_character(self):\n",
    "        print(self.name + \" заспавнился\")\n",
    "\n",
    "class Shrek(Character):\n",
    "    def shrek_character(self):\n",
    "        print(self.name + \" заспавнился\")   "
   ]
  },
  {
   "cell_type": "code",
   "execution_count": 19,
   "id": "f5fe5ed0-fdb3-43c4-b6f9-c5716409fb9f",
   "metadata": {},
   "outputs": [],
   "source": [
    "class FunkoPopHarryPotter(HarryPotter, MixinFunkoPop):\n",
    "    def __init__(self, name) -> None:\n",
    "        super().__init__(name)\n",
    "\n",
    "class PlaybleHarryPotter(HarryPotter, MixinPlayable):\n",
    "    def __init__(self, name) -> None:\n",
    "        super().__init__(name)\n",
    "\n",
    "class FunkoPopHagrid(Hagrid, MixinFunkoPop):\n",
    "    def __init__(self, name) -> None:\n",
    "        super().__init__(name)\n",
    "\n",
    "class PlaybleHagrid(Hagrid, MixinPlayable):\n",
    "    def __init__(self, name) -> None:\n",
    "        super().__init__(name)\n",
    "\n",
    "class FunkoPopShrek(Shrek, MixinFunkoPop):\n",
    "    def __init__(self, name) -> None:\n",
    "        super().__init__(name)\n",
    "\n",
    "class PlaybleShrek(Shrek, MixinPlayable):\n",
    "    def __init__(self, name) -> None:\n",
    "        super().__init__(name)"
   ]
  },
  {
   "cell_type": "code",
   "execution_count": 20,
   "id": "e2dbac64-9480-4c12-83fc-d8382265518a",
   "metadata": {},
   "outputs": [
    {
     "name": "stdout",
     "output_type": "stream",
     "text": [
      "Гарик Поттер заспавнился\n",
      "Гарик Поттер умеет прыгать\n",
      "Гарик Поттер упал отжался\n",
      "Хагрид заспавнился\n",
      "Хагрид не умеет прыгать\n",
      "Хагрид орет на всех: не лезь туда оно тебя сожрет\n",
      "Шрек заспавнился\n",
      "Шрек орет на всех: убери свою валыну\n",
      "Шрек изменил положение тела\n"
     ]
    }
   ],
   "source": [
    "harrypotter_play = FunkoPopHarryPotter(\"Гарик Поттер\")\n",
    "harrypotter_play.harry_potter()\n",
    "harrypotter_play = PlaybleHarryPotter(\"Гарик Поттер\")\n",
    "harrypotter_play.jump()\n",
    "harrypotter_play.fall()\n",
    "\n",
    "hagrid_play = FunkoPopHagrid(\"Хагрид\")\n",
    "hagrid_play.hagrid_character()\n",
    "hagrid_play = PlaybleHagrid(\"Хагрид\")\n",
    "hagrid_play.none_jump()\n",
    "hagrid_play.talk(\"не лезь туда оно тебя сожрет\")\n",
    "\n",
    "shrek_play = FunkoPopShrek(\"Шрек\")\n",
    "shrek_play.shrek_character()\n",
    "shrek_play = PlaybleShrek(\"Шрек\")\n",
    "shrek_play.talk(\"убери свою валыну\")\n",
    "shrek_play.change_pose()"
   ]
  },
  {
   "cell_type": "code",
   "execution_count": null,
   "id": "2ff86b04-83a4-461f-bf92-21d72d9a8fce",
   "metadata": {},
   "outputs": [],
   "source": []
  }
 ],
 "metadata": {
  "kernelspec": {
   "display_name": "Python 3 (ipykernel)",
   "language": "python",
   "name": "python3"
  },
  "language_info": {
   "codemirror_mode": {
    "name": "ipython",
    "version": 3
   },
   "file_extension": ".py",
   "mimetype": "text/x-python",
   "name": "python",
   "nbconvert_exporter": "python",
   "pygments_lexer": "ipython3",
   "version": "3.11.5"
  }
 },
 "nbformat": 4,
 "nbformat_minor": 5
}
