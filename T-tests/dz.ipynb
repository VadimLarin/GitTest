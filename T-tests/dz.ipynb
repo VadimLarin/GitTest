{
 "cells": [
  {
   "cell_type": "code",
   "execution_count": 4,
   "metadata": {},
   "outputs": [],
   "source": [
    "from scipy.stats import ttest_rel"
   ]
  },
  {
   "cell_type": "markdown",
   "metadata": {},
   "source": [
    "H - после редизайна время использования личного кабинета на сайте изменилось (увеличилось или уменьшилось)"
   ]
  },
  {
   "cell_type": "code",
   "execution_count": 5,
   "metadata": {},
   "outputs": [
    {
     "name": "stdout",
     "output_type": "stream",
     "text": [
      "t-стат: 1.845889462014165\n",
      "p-знач: 0.0751397944405015\n"
     ]
    }
   ],
   "source": [
    "time_before = [1732, 1301, 1540, 2247, 1632, 1550, 754, 1946, 1889,\n",
    "               2748, 1349, 1648, 1665, 2416, 1470, 1681, 1868, 1629,\n",
    "               1271, 1633, 2131, 942, 1599, 1127, 2200, 661, 1207,\n",
    "               1737, 2410, 1486]\n",
    "\n",
    "time_after = [955, 2577, 360, 139, 1618, 990, 644, 1796, 1487, 949, 472,\n",
    "              1906, 1758, 1258, 2554, 612, 309, 1864, 1294, 1487, 1164, 1559,\n",
    "              491, 2286, 1270, 2069, 1553, 1629, 1704, 1623]\n",
    "\n",
    "#test\n",
    "t_stat, p_value = ttest_rel(time_before, time_after)\n",
    "print(\"t-стат:\", t_stat)\n",
    "print(\"p-знач:\", p_value)"
   ]
  },
  {
   "cell_type": "code",
   "execution_count": 6,
   "metadata": {},
   "outputs": [
    {
     "name": "stdout",
     "output_type": "stream",
     "text": [
      "Нет статистически значимых различий во времени использования личного кабинета\n"
     ]
    }
   ],
   "source": [
    "alpha = 0.05\n",
    "if p_value < alpha:\n",
    "    print(\"Различия во времени использования личного кабинета статистически значимы\")\n",
    "else:\n",
    "    print(\"Нет статистически значимых различий во времени использования личного кабинета\")"
   ]
  },
  {
   "cell_type": "markdown",
   "metadata": {},
   "source": [
    "Гипотеза отвергается, так как изменения статистически не значимы "
   ]
  },
  {
   "cell_type": "markdown",
   "metadata": {},
   "source": [
    "---------------------------------------------------------"
   ]
  },
  {
   "cell_type": "markdown",
   "metadata": {},
   "source": [
    "H - После нововведений количество используемых патронов изменилось"
   ]
  },
  {
   "cell_type": "code",
   "execution_count": 7,
   "metadata": {},
   "outputs": [
    {
     "name": "stdout",
     "output_type": "stream",
     "text": [
      "t-стат: -2.724804185853386\n",
      "p-знач: 0.010789503820811123\n"
     ]
    }
   ],
   "source": [
    "bullets_before = [821, 1164, 598, 854, 455, 1220, 161, 1400, 479, 215,\n",
    "                  564, 159, 920, 173, 276, 444, 273, 711, 291, 880,\n",
    "                  892, 712, 16, 476, 498, 9, 1251, 938, 389, 513]\n",
    "\n",
    "bullets_after = [904, 220, 676, 459, 299, 659, 1698, 1120, 514, 1086, 1499,\n",
    "                 1262, 829, 476, 1149, 996, 1247, 1117, 1324, 532, 1458, 898,\n",
    "                 1837, 455, 1667, 898, 474, 558, 639, 1012]\n",
    "\n",
    "t_stat, p_value = ttest_rel(bullets_before, bullets_after)\n",
    "print(\"t-стат:\", t_stat)\n",
    "print(\"p-знач:\", p_value)"
   ]
  },
  {
   "cell_type": "code",
   "execution_count": 8,
   "metadata": {},
   "outputs": [
    {
     "name": "stdout",
     "output_type": "stream",
     "text": [
      "Различия в количестве использованных патронов статистически значимы\n"
     ]
    }
   ],
   "source": [
    "alpha = 0.05\n",
    "if p_value < alpha:\n",
    "    print(\"Различия в количестве использованных патронов статистически значимы\")\n",
    "else:\n",
    "    print(\"Нет статистически значимых различий в количестве использованных патронов\")\n"
   ]
  },
  {
   "cell_type": "markdown",
   "metadata": {},
   "source": [
    "Гипотеза подтверждается, так как различия значимы"
   ]
  }
 ],
 "metadata": {
  "kernelspec": {
   "display_name": "Python 3",
   "language": "python",
   "name": "python3"
  },
  "language_info": {
   "codemirror_mode": {
    "name": "ipython",
    "version": 3
   },
   "file_extension": ".py",
   "mimetype": "text/x-python",
   "name": "python",
   "nbconvert_exporter": "python",
   "pygments_lexer": "ipython3",
   "version": "3.11.5"
  },
  "orig_nbformat": 4
 },
 "nbformat": 4,
 "nbformat_minor": 2
}
