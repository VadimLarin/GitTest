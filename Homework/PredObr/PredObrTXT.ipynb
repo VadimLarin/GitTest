{
  "nbformat": 4,
  "nbformat_minor": 0,
  "metadata": {
    "colab": {
      "provenance": [],
      "gpuType": "T4"
    },
    "kernelspec": {
      "name": "python3",
      "display_name": "Python 3"
    },
    "language_info": {
      "name": "python"
    },
    "accelerator": "GPU"
  },
  "cells": [
    {
      "cell_type": "code",
      "execution_count": 1,
      "metadata": {
        "colab": {
          "base_uri": "https://localhost:8080/",
          "height": 1000
        },
        "id": "-nnRwLHQqf2j",
        "outputId": "725e332b-b2ce-4b10-b4e8-ff8c5aabbf9d"
      },
      "outputs": [
        {
          "output_type": "stream",
          "name": "stdout",
          "text": [
            "Requirement already satisfied: nltk in /usr/local/lib/python3.10/dist-packages (3.8.1)\n",
            "Requirement already satisfied: click in /usr/local/lib/python3.10/dist-packages (from nltk) (8.1.7)\n",
            "Requirement already satisfied: joblib in /usr/local/lib/python3.10/dist-packages (from nltk) (1.3.2)\n",
            "Requirement already satisfied: regex>=2021.8.3 in /usr/local/lib/python3.10/dist-packages (from nltk) (2023.6.3)\n",
            "Requirement already satisfied: tqdm in /usr/local/lib/python3.10/dist-packages (from nltk) (4.66.1)\n",
            "Requirement already satisfied: pip in /usr/local/lib/python3.10/dist-packages (23.1.2)\n",
            "Collecting pip\n",
            "  Downloading pip-23.3.2-py3-none-any.whl (2.1 MB)\n",
            "\u001b[2K     \u001b[90m━━━━━━━━━━━━━━━━━━━━━━━━━━━━━━━━━━━━━━━━\u001b[0m \u001b[32m2.1/2.1 MB\u001b[0m \u001b[31m9.2 MB/s\u001b[0m eta \u001b[36m0:00:00\u001b[0m\n",
            "\u001b[?25hRequirement already satisfied: setuptools in /usr/local/lib/python3.10/dist-packages (67.7.2)\n",
            "Collecting setuptools\n",
            "  Downloading setuptools-69.0.2-py3-none-any.whl (819 kB)\n",
            "\u001b[2K     \u001b[90m━━━━━━━━━━━━━━━━━━━━━━━━━━━━━━━━━━━━━━━━\u001b[0m \u001b[32m819.5/819.5 kB\u001b[0m \u001b[31m58.7 MB/s\u001b[0m eta \u001b[36m0:00:00\u001b[0m\n",
            "\u001b[?25hRequirement already satisfied: wheel in /usr/local/lib/python3.10/dist-packages (0.42.0)\n",
            "Installing collected packages: setuptools, pip\n",
            "  Attempting uninstall: setuptools\n",
            "    Found existing installation: setuptools 67.7.2\n",
            "    Uninstalling setuptools-67.7.2:\n",
            "      Successfully uninstalled setuptools-67.7.2\n",
            "  Attempting uninstall: pip\n",
            "    Found existing installation: pip 23.1.2\n",
            "    Uninstalling pip-23.1.2:\n",
            "      Successfully uninstalled pip-23.1.2\n",
            "\u001b[31mERROR: pip's dependency resolver does not currently take into account all the packages that are installed. This behaviour is the source of the following dependency conflicts.\n",
            "ipython 7.34.0 requires jedi>=0.16, which is not installed.\n",
            "lida 0.0.10 requires fastapi, which is not installed.\n",
            "lida 0.0.10 requires kaleido, which is not installed.\n",
            "lida 0.0.10 requires python-multipart, which is not installed.\n",
            "lida 0.0.10 requires uvicorn, which is not installed.\u001b[0m\u001b[31m\n",
            "\u001b[0mSuccessfully installed pip-23.3.2 setuptools-69.0.2\n"
          ]
        },
        {
          "output_type": "display_data",
          "data": {
            "application/vnd.colab-display-data+json": {
              "pip_warning": {
                "packages": [
                  "_distutils_hack",
                  "pkg_resources",
                  "setuptools"
                ]
              }
            }
          },
          "metadata": {}
        },
        {
          "output_type": "stream",
          "name": "stdout",
          "text": [
            "Requirement already satisfied: spacy[cuda12x] in /usr/local/lib/python3.10/dist-packages (3.6.1)\n",
            "Collecting spacy[cuda12x]\n",
            "  Downloading spacy-3.7.2-cp310-cp310-manylinux_2_17_x86_64.manylinux2014_x86_64.whl.metadata (25 kB)\n",
            "Requirement already satisfied: spacy-legacy<3.1.0,>=3.0.11 in /usr/local/lib/python3.10/dist-packages (from spacy[cuda12x]) (3.0.12)\n",
            "Requirement already satisfied: spacy-loggers<2.0.0,>=1.0.0 in /usr/local/lib/python3.10/dist-packages (from spacy[cuda12x]) (1.0.5)\n",
            "Requirement already satisfied: murmurhash<1.1.0,>=0.28.0 in /usr/local/lib/python3.10/dist-packages (from spacy[cuda12x]) (1.0.10)\n",
            "Requirement already satisfied: cymem<2.1.0,>=2.0.2 in /usr/local/lib/python3.10/dist-packages (from spacy[cuda12x]) (2.0.8)\n",
            "Requirement already satisfied: preshed<3.1.0,>=3.0.2 in /usr/local/lib/python3.10/dist-packages (from spacy[cuda12x]) (3.0.9)\n",
            "Requirement already satisfied: thinc<8.3.0,>=8.1.8 in /usr/local/lib/python3.10/dist-packages (from spacy[cuda12x]) (8.1.12)\n",
            "Requirement already satisfied: wasabi<1.2.0,>=0.9.1 in /usr/local/lib/python3.10/dist-packages (from spacy[cuda12x]) (1.1.2)\n",
            "Requirement already satisfied: srsly<3.0.0,>=2.4.3 in /usr/local/lib/python3.10/dist-packages (from spacy[cuda12x]) (2.4.8)\n",
            "Requirement already satisfied: catalogue<2.1.0,>=2.0.6 in /usr/local/lib/python3.10/dist-packages (from spacy[cuda12x]) (2.0.10)\n",
            "Collecting weasel<0.4.0,>=0.1.0 (from spacy[cuda12x])\n",
            "  Downloading weasel-0.3.4-py3-none-any.whl.metadata (4.7 kB)\n",
            "Requirement already satisfied: typer<0.10.0,>=0.3.0 in /usr/local/lib/python3.10/dist-packages (from spacy[cuda12x]) (0.9.0)\n",
            "Requirement already satisfied: smart-open<7.0.0,>=5.2.1 in /usr/local/lib/python3.10/dist-packages (from spacy[cuda12x]) (6.4.0)\n",
            "Requirement already satisfied: tqdm<5.0.0,>=4.38.0 in /usr/local/lib/python3.10/dist-packages (from spacy[cuda12x]) (4.66.1)\n",
            "Requirement already satisfied: requests<3.0.0,>=2.13.0 in /usr/local/lib/python3.10/dist-packages (from spacy[cuda12x]) (2.31.0)\n",
            "Requirement already satisfied: pydantic!=1.8,!=1.8.1,<3.0.0,>=1.7.4 in /usr/local/lib/python3.10/dist-packages (from spacy[cuda12x]) (1.10.13)\n",
            "Requirement already satisfied: jinja2 in /usr/local/lib/python3.10/dist-packages (from spacy[cuda12x]) (3.1.2)\n",
            "Requirement already satisfied: setuptools in /usr/local/lib/python3.10/dist-packages (from spacy[cuda12x]) (69.0.2)\n",
            "Requirement already satisfied: packaging>=20.0 in /usr/local/lib/python3.10/dist-packages (from spacy[cuda12x]) (23.2)\n",
            "Requirement already satisfied: langcodes<4.0.0,>=3.2.0 in /usr/local/lib/python3.10/dist-packages (from spacy[cuda12x]) (3.3.0)\n",
            "Requirement already satisfied: numpy>=1.19.0 in /usr/local/lib/python3.10/dist-packages (from spacy[cuda12x]) (1.23.5)\n",
            "Requirement already satisfied: cupy-cuda12x<13.0.0,>=11.5.0 in /usr/local/lib/python3.10/dist-packages (from spacy[cuda12x]) (12.2.0)\n",
            "Requirement already satisfied: fastrlock>=0.5 in /usr/local/lib/python3.10/dist-packages (from cupy-cuda12x<13.0.0,>=11.5.0->spacy[cuda12x]) (0.8.2)\n",
            "Requirement already satisfied: typing-extensions>=4.2.0 in /usr/local/lib/python3.10/dist-packages (from pydantic!=1.8,!=1.8.1,<3.0.0,>=1.7.4->spacy[cuda12x]) (4.5.0)\n",
            "Requirement already satisfied: charset-normalizer<4,>=2 in /usr/local/lib/python3.10/dist-packages (from requests<3.0.0,>=2.13.0->spacy[cuda12x]) (3.3.2)\n",
            "Requirement already satisfied: idna<4,>=2.5 in /usr/local/lib/python3.10/dist-packages (from requests<3.0.0,>=2.13.0->spacy[cuda12x]) (3.6)\n",
            "Requirement already satisfied: urllib3<3,>=1.21.1 in /usr/local/lib/python3.10/dist-packages (from requests<3.0.0,>=2.13.0->spacy[cuda12x]) (2.0.7)\n",
            "Requirement already satisfied: certifi>=2017.4.17 in /usr/local/lib/python3.10/dist-packages (from requests<3.0.0,>=2.13.0->spacy[cuda12x]) (2023.11.17)\n",
            "Requirement already satisfied: blis<0.8.0,>=0.7.8 in /usr/local/lib/python3.10/dist-packages (from thinc<8.3.0,>=8.1.8->spacy[cuda12x]) (0.7.11)\n",
            "Requirement already satisfied: confection<1.0.0,>=0.0.1 in /usr/local/lib/python3.10/dist-packages (from thinc<8.3.0,>=8.1.8->spacy[cuda12x]) (0.1.4)\n",
            "Requirement already satisfied: click<9.0.0,>=7.1.1 in /usr/local/lib/python3.10/dist-packages (from typer<0.10.0,>=0.3.0->spacy[cuda12x]) (8.1.7)\n",
            "Collecting cloudpathlib<0.17.0,>=0.7.0 (from weasel<0.4.0,>=0.1.0->spacy[cuda12x])\n",
            "  Downloading cloudpathlib-0.16.0-py3-none-any.whl.metadata (14 kB)\n",
            "Requirement already satisfied: MarkupSafe>=2.0 in /usr/local/lib/python3.10/dist-packages (from jinja2->spacy[cuda12x]) (2.1.3)\n",
            "Downloading weasel-0.3.4-py3-none-any.whl (50 kB)\n",
            "\u001b[2K   \u001b[90m━━━━━━━━━━━━━━━━━━━━━━━━━━━━━━━━━━━━━━━━\u001b[0m \u001b[32m50.1/50.1 kB\u001b[0m \u001b[31m1.7 MB/s\u001b[0m eta \u001b[36m0:00:00\u001b[0m\n",
            "\u001b[?25hDownloading spacy-3.7.2-cp310-cp310-manylinux_2_17_x86_64.manylinux2014_x86_64.whl (6.6 MB)\n",
            "\u001b[2K   \u001b[90m━━━━━━━━━━━━━━━━━━━━━━━━━━━━━━━━━━━━━━━━\u001b[0m \u001b[32m6.6/6.6 MB\u001b[0m \u001b[31m25.6 MB/s\u001b[0m eta \u001b[36m0:00:00\u001b[0m\n",
            "\u001b[?25hDownloading cloudpathlib-0.16.0-py3-none-any.whl (45 kB)\n",
            "\u001b[2K   \u001b[90m━━━━━━━━━━━━━━━━━━━━━━━━━━━━━━━━━━━━━━━━\u001b[0m \u001b[32m45.0/45.0 kB\u001b[0m \u001b[31m3.9 MB/s\u001b[0m eta \u001b[36m0:00:00\u001b[0m\n",
            "\u001b[?25hInstalling collected packages: cloudpathlib, weasel, spacy\n",
            "  Attempting uninstall: spacy\n",
            "    Found existing installation: spacy 3.6.1\n",
            "    Uninstalling spacy-3.6.1:\n",
            "      Successfully uninstalled spacy-3.6.1\n",
            "\u001b[31mERROR: pip's dependency resolver does not currently take into account all the packages that are installed. This behaviour is the source of the following dependency conflicts.\n",
            "en-core-web-sm 3.6.0 requires spacy<3.7.0,>=3.6.0, but you have spacy 3.7.2 which is incompatible.\u001b[0m\u001b[31m\n",
            "\u001b[0mSuccessfully installed cloudpathlib-0.16.0 spacy-3.7.2 weasel-0.3.4\n",
            "\u001b[33mWARNING: Running pip as the 'root' user can result in broken permissions and conflicting behaviour with the system package manager. It is recommended to use a virtual environment instead: https://pip.pypa.io/warnings/venv\u001b[0m\u001b[33m\n",
            "\u001b[0m2023-12-20 14:49:04.253347: E external/local_xla/xla/stream_executor/cuda/cuda_dnn.cc:9261] Unable to register cuDNN factory: Attempting to register factory for plugin cuDNN when one has already been registered\n",
            "2023-12-20 14:49:04.253410: E external/local_xla/xla/stream_executor/cuda/cuda_fft.cc:607] Unable to register cuFFT factory: Attempting to register factory for plugin cuFFT when one has already been registered\n",
            "2023-12-20 14:49:04.255328: E external/local_xla/xla/stream_executor/cuda/cuda_blas.cc:1515] Unable to register cuBLAS factory: Attempting to register factory for plugin cuBLAS when one has already been registered\n",
            "2023-12-20 14:49:04.266029: I tensorflow/core/platform/cpu_feature_guard.cc:182] This TensorFlow binary is optimized to use available CPU instructions in performance-critical operations.\n",
            "To enable the following instructions: AVX2 FMA, in other operations, rebuild TensorFlow with the appropriate compiler flags.\n",
            "2023-12-20 14:49:05.579472: W tensorflow/compiler/tf2tensorrt/utils/py_utils.cc:38] TF-TRT Warning: Could not find TensorRT\n",
            "2023-12-20 14:49:07.018394: I external/local_xla/xla/stream_executor/cuda/cuda_executor.cc:901] successful NUMA node read from SysFS had negative value (-1), but there must be at least one NUMA node, so returning NUMA node zero. See more at https://github.com/torvalds/linux/blob/v6.0/Documentation/ABI/testing/sysfs-bus-pci#L344-L355\n",
            "2023-12-20 14:49:07.019008: I external/local_xla/xla/stream_executor/cuda/cuda_executor.cc:901] successful NUMA node read from SysFS had negative value (-1), but there must be at least one NUMA node, so returning NUMA node zero. See more at https://github.com/torvalds/linux/blob/v6.0/Documentation/ABI/testing/sysfs-bus-pci#L344-L355\n",
            "2023-12-20 14:49:07.019266: I external/local_xla/xla/stream_executor/cuda/cuda_executor.cc:901] successful NUMA node read from SysFS had negative value (-1), but there must be at least one NUMA node, so returning NUMA node zero. See more at https://github.com/torvalds/linux/blob/v6.0/Documentation/ABI/testing/sysfs-bus-pci#L344-L355\n",
            "Collecting ru-core-news-sm==3.7.0\n",
            "  Downloading https://github.com/explosion/spacy-models/releases/download/ru_core_news_sm-3.7.0/ru_core_news_sm-3.7.0-py3-none-any.whl (15.3 MB)\n",
            "\u001b[2K     \u001b[90m━━━━━━━━━━━━━━━━━━━━━━━━━━━━━━━━━━━━━━━━\u001b[0m \u001b[32m15.3/15.3 MB\u001b[0m \u001b[31m39.4 MB/s\u001b[0m eta \u001b[36m0:00:00\u001b[0m\n",
            "\u001b[?25hRequirement already satisfied: spacy<3.8.0,>=3.7.0 in /usr/local/lib/python3.10/dist-packages (from ru-core-news-sm==3.7.0) (3.7.2)\n",
            "Collecting pymorphy3>=1.0.0 (from ru-core-news-sm==3.7.0)\n",
            "  Downloading pymorphy3-1.3.1-py3-none-any.whl.metadata (1.9 kB)\n",
            "Collecting dawg-python>=0.7.1 (from pymorphy3>=1.0.0->ru-core-news-sm==3.7.0)\n",
            "  Downloading DAWG_Python-0.7.2-py2.py3-none-any.whl (11 kB)\n",
            "Collecting pymorphy3-dicts-ru (from pymorphy3>=1.0.0->ru-core-news-sm==3.7.0)\n",
            "  Downloading pymorphy3_dicts_ru-2.4.417150.4580142-py2.py3-none-any.whl (8.4 MB)\n",
            "\u001b[2K     \u001b[90m━━━━━━━━━━━━━━━━━━━━━━━━━━━━━━━━━━━━━━━━\u001b[0m \u001b[32m8.4/8.4 MB\u001b[0m \u001b[31m28.5 MB/s\u001b[0m eta \u001b[36m0:00:00\u001b[0m\n",
            "\u001b[?25hRequirement already satisfied: spacy-legacy<3.1.0,>=3.0.11 in /usr/local/lib/python3.10/dist-packages (from spacy<3.8.0,>=3.7.0->ru-core-news-sm==3.7.0) (3.0.12)\n",
            "Requirement already satisfied: spacy-loggers<2.0.0,>=1.0.0 in /usr/local/lib/python3.10/dist-packages (from spacy<3.8.0,>=3.7.0->ru-core-news-sm==3.7.0) (1.0.5)\n",
            "Requirement already satisfied: murmurhash<1.1.0,>=0.28.0 in /usr/local/lib/python3.10/dist-packages (from spacy<3.8.0,>=3.7.0->ru-core-news-sm==3.7.0) (1.0.10)\n",
            "Requirement already satisfied: cymem<2.1.0,>=2.0.2 in /usr/local/lib/python3.10/dist-packages (from spacy<3.8.0,>=3.7.0->ru-core-news-sm==3.7.0) (2.0.8)\n",
            "Requirement already satisfied: preshed<3.1.0,>=3.0.2 in /usr/local/lib/python3.10/dist-packages (from spacy<3.8.0,>=3.7.0->ru-core-news-sm==3.7.0) (3.0.9)\n",
            "Requirement already satisfied: thinc<8.3.0,>=8.1.8 in /usr/local/lib/python3.10/dist-packages (from spacy<3.8.0,>=3.7.0->ru-core-news-sm==3.7.0) (8.1.12)\n",
            "Requirement already satisfied: wasabi<1.2.0,>=0.9.1 in /usr/local/lib/python3.10/dist-packages (from spacy<3.8.0,>=3.7.0->ru-core-news-sm==3.7.0) (1.1.2)\n",
            "Requirement already satisfied: srsly<3.0.0,>=2.4.3 in /usr/local/lib/python3.10/dist-packages (from spacy<3.8.0,>=3.7.0->ru-core-news-sm==3.7.0) (2.4.8)\n",
            "Requirement already satisfied: catalogue<2.1.0,>=2.0.6 in /usr/local/lib/python3.10/dist-packages (from spacy<3.8.0,>=3.7.0->ru-core-news-sm==3.7.0) (2.0.10)\n",
            "Requirement already satisfied: weasel<0.4.0,>=0.1.0 in /usr/local/lib/python3.10/dist-packages (from spacy<3.8.0,>=3.7.0->ru-core-news-sm==3.7.0) (0.3.4)\n",
            "Requirement already satisfied: typer<0.10.0,>=0.3.0 in /usr/local/lib/python3.10/dist-packages (from spacy<3.8.0,>=3.7.0->ru-core-news-sm==3.7.0) (0.9.0)\n",
            "Requirement already satisfied: smart-open<7.0.0,>=5.2.1 in /usr/local/lib/python3.10/dist-packages (from spacy<3.8.0,>=3.7.0->ru-core-news-sm==3.7.0) (6.4.0)\n",
            "Requirement already satisfied: tqdm<5.0.0,>=4.38.0 in /usr/local/lib/python3.10/dist-packages (from spacy<3.8.0,>=3.7.0->ru-core-news-sm==3.7.0) (4.66.1)\n",
            "Requirement already satisfied: requests<3.0.0,>=2.13.0 in /usr/local/lib/python3.10/dist-packages (from spacy<3.8.0,>=3.7.0->ru-core-news-sm==3.7.0) (2.31.0)\n",
            "Requirement already satisfied: pydantic!=1.8,!=1.8.1,<3.0.0,>=1.7.4 in /usr/local/lib/python3.10/dist-packages (from spacy<3.8.0,>=3.7.0->ru-core-news-sm==3.7.0) (1.10.13)\n",
            "Requirement already satisfied: jinja2 in /usr/local/lib/python3.10/dist-packages (from spacy<3.8.0,>=3.7.0->ru-core-news-sm==3.7.0) (3.1.2)\n",
            "Requirement already satisfied: setuptools in /usr/local/lib/python3.10/dist-packages (from spacy<3.8.0,>=3.7.0->ru-core-news-sm==3.7.0) (69.0.2)\n",
            "Requirement already satisfied: packaging>=20.0 in /usr/local/lib/python3.10/dist-packages (from spacy<3.8.0,>=3.7.0->ru-core-news-sm==3.7.0) (23.2)\n",
            "Requirement already satisfied: langcodes<4.0.0,>=3.2.0 in /usr/local/lib/python3.10/dist-packages (from spacy<3.8.0,>=3.7.0->ru-core-news-sm==3.7.0) (3.3.0)\n",
            "Requirement already satisfied: numpy>=1.19.0 in /usr/local/lib/python3.10/dist-packages (from spacy<3.8.0,>=3.7.0->ru-core-news-sm==3.7.0) (1.23.5)\n",
            "Requirement already satisfied: typing-extensions>=4.2.0 in /usr/local/lib/python3.10/dist-packages (from pydantic!=1.8,!=1.8.1,<3.0.0,>=1.7.4->spacy<3.8.0,>=3.7.0->ru-core-news-sm==3.7.0) (4.5.0)\n",
            "Requirement already satisfied: charset-normalizer<4,>=2 in /usr/local/lib/python3.10/dist-packages (from requests<3.0.0,>=2.13.0->spacy<3.8.0,>=3.7.0->ru-core-news-sm==3.7.0) (3.3.2)\n",
            "Requirement already satisfied: idna<4,>=2.5 in /usr/local/lib/python3.10/dist-packages (from requests<3.0.0,>=2.13.0->spacy<3.8.0,>=3.7.0->ru-core-news-sm==3.7.0) (3.6)\n",
            "Requirement already satisfied: urllib3<3,>=1.21.1 in /usr/local/lib/python3.10/dist-packages (from requests<3.0.0,>=2.13.0->spacy<3.8.0,>=3.7.0->ru-core-news-sm==3.7.0) (2.0.7)\n",
            "Requirement already satisfied: certifi>=2017.4.17 in /usr/local/lib/python3.10/dist-packages (from requests<3.0.0,>=2.13.0->spacy<3.8.0,>=3.7.0->ru-core-news-sm==3.7.0) (2023.11.17)\n",
            "Requirement already satisfied: blis<0.8.0,>=0.7.8 in /usr/local/lib/python3.10/dist-packages (from thinc<8.3.0,>=8.1.8->spacy<3.8.0,>=3.7.0->ru-core-news-sm==3.7.0) (0.7.11)\n",
            "Requirement already satisfied: confection<1.0.0,>=0.0.1 in /usr/local/lib/python3.10/dist-packages (from thinc<8.3.0,>=8.1.8->spacy<3.8.0,>=3.7.0->ru-core-news-sm==3.7.0) (0.1.4)\n",
            "Requirement already satisfied: click<9.0.0,>=7.1.1 in /usr/local/lib/python3.10/dist-packages (from typer<0.10.0,>=0.3.0->spacy<3.8.0,>=3.7.0->ru-core-news-sm==3.7.0) (8.1.7)\n",
            "Requirement already satisfied: cloudpathlib<0.17.0,>=0.7.0 in /usr/local/lib/python3.10/dist-packages (from weasel<0.4.0,>=0.1.0->spacy<3.8.0,>=3.7.0->ru-core-news-sm==3.7.0) (0.16.0)\n",
            "Requirement already satisfied: MarkupSafe>=2.0 in /usr/local/lib/python3.10/dist-packages (from jinja2->spacy<3.8.0,>=3.7.0->ru-core-news-sm==3.7.0) (2.1.3)\n",
            "Downloading pymorphy3-1.3.1-py3-none-any.whl (55 kB)\n",
            "\u001b[2K   \u001b[90m━━━━━━━━━━━━━━━━━━━━━━━━━━━━━━━━━━━━━━━━\u001b[0m \u001b[32m55.7/55.7 kB\u001b[0m \u001b[31m3.5 MB/s\u001b[0m eta \u001b[36m0:00:00\u001b[0m\n",
            "\u001b[?25hInstalling collected packages: pymorphy3-dicts-ru, dawg-python, pymorphy3, ru-core-news-sm\n",
            "Successfully installed dawg-python-0.7.2 pymorphy3-1.3.1 pymorphy3-dicts-ru-2.4.417150.4580142 ru-core-news-sm-3.7.0\n",
            "\u001b[33mWARNING: Running pip as the 'root' user can result in broken permissions and conflicting behaviour with the system package manager. It is recommended to use a virtual environment instead: https://pip.pypa.io/warnings/venv\u001b[0m\u001b[33m\n",
            "\u001b[0m\u001b[38;5;2m✔ Download and installation successful\u001b[0m\n",
            "You can now load the package via spacy.load('ru_core_news_sm')\n"
          ]
        }
      ],
      "source": [
        "%pip install nltk\n",
        "%pip install -U pip setuptools wheel\n",
        "%pip install -U 'spacy[cuda12x]'\n",
        "%pip install scikit-learn\n",
        "!python -m spacy download ru_core_news_sm"
      ]
    },
    {
      "cell_type": "code",
      "source": [
        "import spacy\n",
        "spacy.prefer_gpu()\n",
        "import nltk\n",
        "from nltk import word_tokenize\n",
        "nltk.download('punkt')\n",
        "nltk.download('stopwords')\n",
        "from nltk.corpus import stopwords\n",
        "from sklearn.feature_extraction.text import CountVectorizer\n",
        "from sklearn.metrics.pairwise import cosine_similarity\n",
        "import itertools"
      ],
      "metadata": {
        "colab": {
          "base_uri": "https://localhost:8080/"
        },
        "id": "WG0-6lJAqk-Z",
        "outputId": "126f3d1d-6011-4d47-e3cd-ab16e28583ad"
      },
      "execution_count": 19,
      "outputs": [
        {
          "output_type": "stream",
          "name": "stderr",
          "text": [
            "[nltk_data] Downloading package punkt to /root/nltk_data...\n",
            "[nltk_data]   Package punkt is already up-to-date!\n",
            "[nltk_data] Downloading package stopwords to /root/nltk_data...\n",
            "[nltk_data]   Package stopwords is already up-to-date!\n"
          ]
        }
      ]
    },
    {
      "cell_type": "code",
      "source": [
        "class preprocessortxt:\n",
        "    def __init__(rus):\n",
        "        rus.nlp = spacy.load(\"ru_core_news_sm\")\n",
        "\n",
        "    def preprocess_text(rus, text):\n",
        "        doc = rus.nlp(text)\n",
        "        words_filtered = [token.lemma_ for token in doc if not token.is_punct and not token.is_stop]\n",
        "        preprocessed_text = \" \".join(words_filtered)\n",
        "        return preprocessed_text"
      ],
      "metadata": {
        "id": "c-bSND7bqp70"
      },
      "execution_count": 12,
      "outputs": []
    },
    {
      "cell_type": "code",
      "source": [
        "with open('book1863_ok.txt', 'r', encoding='utf-8') as file:\n",
        "    text = file.read()"
      ],
      "metadata": {
        "id": "AE4YBmvbqq8Y"
      },
      "execution_count": 15,
      "outputs": []
    },
    {
      "cell_type": "code",
      "source": [
        "preproc = preprocessortxt()\n",
        "preprocessed_text = preproc.preprocess_text(text)\n",
        "with open(\"obrtext.txt\", \"w\", encoding=\"utf-8\") as file:\n",
        "    file.write(preprocessed_text)"
      ],
      "metadata": {
        "id": "UnDRJPitsDIh"
      },
      "execution_count": 16,
      "outputs": []
    },
    {
      "cell_type": "code",
      "source": [
        "class TextSimilarityCalculator:\n",
        "    def __init__(self):\n",
        "        self.vectorizer = CountVectorizer()\n",
        "\n",
        "    def calculate_cosine_similarity(self, texts):\n",
        "        vectors = self.vectorizer.fit_transform(texts)\n",
        "\n",
        "        similarity_matrix = cosine_similarity(vectors, dense_output=False)\n",
        "\n",
        "        return similarity_matrix"
      ],
      "metadata": {
        "id": "cfgLIU6F1hxB"
      },
      "execution_count": 21,
      "outputs": []
    },
    {
      "cell_type": "code",
      "source": [
        "texts = [\n",
        "    \"\"\"Боже! как весело вам, как хорошо и отрадно на этих деревянных тротуарах! Все вас знают, вас любят, вам улыбаются! Вон мелькнули в окнах четыре фигуры за четвероугольным столом, предающиеся деловому отдохновению за карточным столом; вот из другого окна столбом валит дым, обличающий собравшуюся в доме веселую компанию приказных, а быть может, и сановников; вот послышался вам из соседнего дома смех, звонкий смех, от которого вдруг упало в груди ваше юное сердце, и тут же, с ним рядом, произносится острота, очень хорошая острота, которую вы уж много раз слышали, но которая, в этот вечер, кажется вам особенно привлекательною, и вы не сердитесь, а как-то добродушно и ласково улыбаетесь ей. Но вот и гуляющие – всё больше женский пол, около которого, как и везде, как комары над болотом, роится молодежь. Эта молодежь иногда казалась вам нестерпимою: в ее стремлениях к женскому полу вы видели что-то не совсем опрятное; шуточки и нежности ее отзывались в ваших ушах грубо и матерьяльно; но в этот вечер вы добры. Если б вам встретился пылкий Трезор, томно виляющий хвостом на бегу за кокеткой Дианкой, вы и тут нашли бы средство отыскать что-то наивное, буколическое. Вот и она, крутогорская звезда, гонительница знаменитого рода князей Чебылкиных – единственного княжеского рода во всей Крутогорской губернии, – наша Вера Готлибовна, немка по происхождению, но русская по складу ума и сердца! Идет она, и издали несется ее голос, звонко командующий над целым взводом молодых вздыхателей; идет она, и прячется седовласая голова князя Чебылкина, высунувшаяся было из окна, ожигаются губы княгини, кушающей вечерний чай, и выпадает фарфоровая куколка из рук двадцатилетней княжны, играющей в растворенном окне. Вот и вы, великолепная Катерина Осиповна, также звезда крутогорская, вы, которой роскошные формы напоминают лучшие времена человечества, вы, которую ни с кем сравнить не смею, кроме гречанки Бобелины. Около вас также роятся поклонники и вьется жирный разговор, для которого неистощимым предметом служат ваши прелести. И все это так приветливо улыбается вам, всякому вы жмете руку, со всяким вступаете в разговор. Вера Готлибовна рассказывает вам какую-нибудь новую проделку князя Чебылкина; Порфирий Петрович передает замечательный случай из вчерашнего преферанса.\n",
        "Но вот и сам его сиятельство, князь Чебылкин, изволит возвращаться от всенощной, четверней в коляске. Его сиятельство милостиво раскланивается на все стороны; четверня раскормленных лошадок влачит коляску мерным и томным шагом: сами бессловесные чувствуют всю важность возложенного на них подвига и ведут себя, как следует лошадям хорошего тона.\"\"\",\n",
        "    \"\"\"Весть об ожидаемом приезде ревизора мгновенно разнеслась по городу. Утех из чиновников, у которых всякое душевное волнение выражается трясениемподжилок, таковое совершилось благополучно. Город оживился, но этооживление было какое-то бездушное, похожее на ту суету, которая начинаетсяво всяком губернском городе с утра каждого высокоторжественного праздника ипродолжается ни более, ни менее, как до известного, судьбой определенногосрока. Петр Борисыч Лепехин, охотник поиграть в двухкопеечный преферанс, внезапно вспомнил, что высшее начальство непоощрительно смотрит на такоеневинное препровождение времени, и призадумался. Он почел долгом немедленносправиться об этом в Своде законов, и хотя ничего похожего на угрозу там ненашел, но на всякий случай, пришедши вечером в клуб, не только сам неторопился составить партию, но даже отказался наотрез от карточки, которуюпредлагал ему Порфирий Петрович.\n",
        "Федор Герасимович Крестовоздвиженский, пришедши в присутствие, потребовал немедленно к себе какие-то четыре дела («знаете: те дела, покоторым…») и, обнюхавши их, вдруг пришел в восторженность, замахал рукамии закричал: «Завтра же! сегодня же! катать их! под суд их!»\n",
        "Иван Павлыч Вологжанин неутомимо начал разъезжать по всем знакомым исобирать полезные сведения о житье-бытье крутогорских обывателей, дабы, вслучае надобности, преподнесть этот букет господину ревизору и чрез тозаявить свою деятельность и преданность.\n",
        "В будку, которая с самой постройки своей никогда не видала будочника иоставлена была без стекол, поставили первого и вставили последние.\n",
        "Пожарных лошадей выкормили, как индеек Ивана Ивановича\"\"\",\n",
        "    \"\"\"В этом вагоне сидела губерния, сидело все то, от чего я бежал, от лицезрения чего стремился отдохнуть. Тут были: и Петр Иваныч, и Тертий Семеныч, и сам представитель «высшего в империи сословия», Александр Прокофьич (он же «Прокоп Ляпунов») с супругой, на лице которой читается только одна мысль: «Alexandre! у тебя опять галстух набок съехал!» Это была ужаснейшая для меня минута. Все они были налицо с своими жирными затылками, с своими клинообразными кадыками, в фуражках с красными околышами и с кокардой над козырьком. Все притворялись, что у них есть нечто в кармане, и ни один даже не пытался притвориться, что у него есть нечто в голове. По-видимому, это последнее обстоятельство для них самих составляло дело решенное, потому что смотреть на мир такими осовелыми глазами, какими смотрели они, могут только люди или совершенно эманципированные от давления мысли, или люди совсем наглые. А так как моих спутников нельзя же назвать вполне наглыми людьми, то очевидно, что они принадлежат к числу вполне свободных. На меня эти красные околыши произвели какое-то болезненное впечатление. Мне показалось, что я опять в нашем рязанско-курско-тамбовско-воронежско-саратовском клубе, окруженный сеятелями, деятелями и всех сортов шлющимися и не помнящими родства людьми…\n",
        "Разумеется, обрадовались. Но в этих приветственных возгласах мне слышалось что-то обидное. Как будто, приветствуя меня, они в один голос говорили: а вот и еще нашего стада скотина пришла! Не потому ли эта встреча до такой степени уязвила меня, что я никогда так отчетливо, как в эту минуту, не сознавал, что ведь я и сам такой же шлющийся и не знающий, куда приткнуть голову, человек, как и они? Кайданов удостоверяет, что древние авгуры не могли удерживаться от смеха, встречаясь друг с другом. Быть может, на первых порах, оно так и было; но впоследствии, когда интерес новизны исчез, эти встречи должны были возбуждать не смех, а взаимное озлобление. Скажите, можно ли без злобы ежеминутно встречаться с человеком, которого видишь насквозь, со всем его нутром! Помилуйте! да от этого человека за тридевять земель бежать надобно, а не то что улыбаться ему!\n",
        "Легко сказать, бежать! Вы бежите – а он за вами!\"\"\",\n",
        "    \"\"\"Я родился в атмосфере обуздания, я таинственною пуповиной прикреплен к людям обуздания. От ранних лет детства я не слышу иных разговоров, кроме разговоров об обуздании (хотя самое слово «обуздание» и не всегда в них упоминается), и полагаю, что эти же разговоры проводят меня и в могилу. Все относящееся до обуздания вошло, так сказать, в интимную обстановку моей жизни, примелькалось, как плоский русский пейзаж, прислушалось, как сказка старой няньки, и этого, мне кажется, совершенно достаточно, чтоб объяснить то равнодушие, с которым я отношусь к обуздывательной среде и к вопросам, ее волнующим. Я до такой степени привык к ним, что, право, не приходит даже на мысль вдумываться, в чем собственно заключаются те тонкости, которыми один обуздательный проект отличается от другого такового ж. Спросите меня, что либеральнее: обуздывать ли человечество при помощи земских управ или при помощи особых о земских провинностях присутствий, – клянусь, я не найдусь даже ответить на этот вопрос. Я не понимаю, в чем состоит сущность его, не могу себе объяснить, зачем тут привлечен либерализм? Мне кажется, что оба решения, на которые указывает вопрос, одинаково стоят на почве обуздания и различаются между собою лишь совершенно недоступною для меня диалектическою тонкостью.\"\"\",\n",
        "    \"\"\"То есть, по правде-то говоря, из нас двоих волновались и \"бредили\" вы одни, милая тетенька. Я же собственно говорил: зачем вы, тетенька, к болгарам едете? зачем вы хотите присутствовать на процессе Засулич? зачем вы концерты в пользу курсисток устраиваете? Сядемте-ка лучше рядком, сядем да посидим... Ах, как вы на меня тогда рассердились!\n",
        "– Сидите – вы! – сказали вы мне, – а я пойду туда, куда влекут меня убеждения! Mais savez-vous, mon cher, que vous allez devenir pouilleux avec vos \"сядем да посидим\"... [1]\n",
        "Именно так по-французски и сказали: pouilleux, потому что ведь нельзя же по-русски сказать: обовшивеете!\n",
        "Повторяю: я лично не волновался. Однако ж не скрою, что к вашим волнениям я относился до крайности симпатично и не раз с гордостью говорил себе: \"Вот она, тетенька-то у меня какова! К болгарам в пользу Баттенбергского принца агитировать ездит! Милану прямо в лицо говорит: дерзай, княже! \"Иде домув муй?\" с аккомпанементом гитары поет – какой еще родственницы нужно!\" Говорил да говорил, и никак не предвидел, что на нынешнем консервативно-околоточном языке мои симпатии будут называться укрывательством и попустительством...\n",
        "Но теперь, когда попустительства начинают выходить из меня соком, я мало-помалу прихожу к сознанию, что был глубоко и непростительно неправ.\"\"\",\n",
        "    \"\"\"О честности финской составилась провербиальная репутация, но нынче и в ней стали сомневаться. По крайней мере, русских пионеров они обманывают охотно, а нередко даже и поворовывают. В петербургских процессах о воровствах слишком часто стали попадать финские имена – стало быть, способность есть. Защитники Финляндии (из русских же) удостоверяют, что финнов научили воровать проникшие сюда вместе с пионерами русские рабочие – но ведь клеветать на невинных легко!\n",
        "Есть у финнов и способность к пьянству, хотя вина здесь совсем нет, за редким исключением корчемства, строго преследуемого. Но, дорвавшись до Петербурга, финн напивается до самозабвения, теряет деньги, лошадь, сбрую и возвращается домой гол как сокол.\n",
        "Талантливы ли финны – сказать не умею. Кажется, скорее, что нет, потому что у громадного большинства их вы видите в золотушных глазах только недоумение. Да и о выдающихся людях не слыхать. Если бы что-нибудь было в запасе, все-таки кто-нибудь да создал бы себе известность.\"\"\"\n",
        "\n",
        "]"
      ],
      "metadata": {
        "id": "iA2GRP4f3kR0"
      },
      "execution_count": 22,
      "outputs": []
    },
    {
      "cell_type": "code",
      "source": [
        "similarity_calculator = TextSimilarityCalculator()\n",
        "similarity_matrix = similarity_calculator.calculate_cosine_similarity(texts)"
      ],
      "metadata": {
        "id": "nrjcKks39M5j"
      },
      "execution_count": 23,
      "outputs": []
    },
    {
      "cell_type": "code",
      "source": [
        "for i, j in itertools.combinations(range(len(texts)), 2):\n",
        "    similarity = similarity_matrix[i, j]\n",
        "    print(f\"Косинусное сходство между текстом {i+1} и текстом {j+1}: {similarity}\")"
      ],
      "metadata": {
        "colab": {
          "base_uri": "https://localhost:8080/"
        },
        "id": "n6PsuDY39Rdk",
        "outputId": "a96d6eb3-0d0f-40d2-810e-40d2f3bd4384"
      },
      "execution_count": 24,
      "outputs": [
        {
          "output_type": "stream",
          "name": "stdout",
          "text": [
            "Косинусное сходство между текстом 1 и текстом 2: 0.20409205315145476\n",
            "Косинусное сходство между текстом 1 и текстом 3: 0.28488497238170923\n",
            "Косинусное сходство между текстом 1 и текстом 4: 0.1922130769280035\n",
            "Косинусное сходство между текстом 1 и текстом 5: 0.30696996513331243\n",
            "Косинусное сходство между текстом 1 и текстом 6: 0.20761654003903499\n",
            "Косинусное сходство между текстом 2 и текстом 3: 0.2554093366552319\n",
            "Косинусное сходство между текстом 2 и текстом 4: 0.20740848484813504\n",
            "Косинусное сходство между текстом 2 и текстом 5: 0.17773934261677793\n",
            "Косинусное сходство между текстом 2 и текстом 6: 0.18907812799553642\n",
            "Косинусное сходство между текстом 3 и текстом 4: 0.4422336363357164\n",
            "Косинусное сходство между текстом 3 и текстом 5: 0.35472821729237863\n",
            "Косинусное сходство между текстом 3 и текстом 6: 0.3285278237949627\n",
            "Косинусное сходство между текстом 4 и текстом 5: 0.28354527731768814\n",
            "Косинусное сходство между текстом 4 и текстом 6: 0.2276774458996458\n",
            "Косинусное сходство между текстом 5 и текстом 6: 0.25450428531869707\n"
          ]
        }
      ]
    }
  ]
}