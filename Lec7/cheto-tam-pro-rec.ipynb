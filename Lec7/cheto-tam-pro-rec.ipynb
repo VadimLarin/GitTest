{
 "cells": [
  {
   "cell_type": "code",
   "execution_count": 2,
   "id": "ade76f39-0adf-48fc-b156-89f0fc84578b",
   "metadata": {},
   "outputs": [
    {
     "name": "stdout",
     "output_type": "stream",
     "text": [
      "Note: you may need to restart the kernel to use updated packages.\n"
     ]
    }
   ],
   "source": [
    "%pip install -q rich\n",
    "from rich import print\n"
   ]
  },
  {
   "cell_type": "code",
   "execution_count": 3,
   "id": "2e1cdc5a-3544-4e90-8621-5eceacc18b91",
   "metadata": {},
   "outputs": [
    {
     "ename": "SyntaxError",
     "evalue": "incomplete input (3961634565.py, line 20)",
     "output_type": "error",
     "traceback": [
      "\u001b[0;36m  Cell \u001b[0;32mIn[3], line 20\u001b[0;36m\u001b[0m\n\u001b[0;31m    \u001b[0m\n\u001b[0m    ^\u001b[0m\n\u001b[0;31mSyntaxError\u001b[0m\u001b[0;31m:\u001b[0m incomplete input\n"
     ]
    }
   ],
   "source": [
    "tree = {\n",
    "    1: {\n",
    "        'first_inner': {\n",
    "            1: 'text',\n",
    "            2: 'text',\n",
    "            3: 'text',\n",
    "        },\n",
    "    },\n",
    "    2: {\n",
    "        'second_inner': {\n",
    "            'second_2_inner': {\n",
    "                'second_3_inner': {\n",
    "                    1: 'folder',\n",
    "                    2: 'folder',\n",
    "                    3: 'target_folder',\n",
    "                }\n",
    "            }\n",
    "        },\n",
    "    },\n",
    "            "
   ]
  },
  {
   "cell_type": "code",
   "execution_count": null,
   "id": "5268b740-6c97-4d31-8977-22ef72bcf7aa",
   "metadata": {},
   "outputs": [],
   "source": [
    "tree"
   ]
  },
  {
   "cell_type": "code",
   "execution_count": null,
   "id": "d167a003-efc7-435a-b4cb-707fa7ee518c",
   "metadata": {},
   "outputs": [],
   "source": [
    "_find(tree: dict, name: str):\n",
    "key, value in tree.items():\n",
    "if isinstance(value, dict):\n",
    "    print(f'ключ - {key}, значение - {value}\\n')\n",
    "    rec_find(value, name)"
   ]
  },
  {
   "cell_type": "code",
   "execution_count": null,
   "id": "4721d70a-72fe-4eeb-8f1c-4f5586eb718e",
   "metadata": {},
   "outputs": [],
   "source": [
    "rec_find(tree, 'target_folder')"
   ]
  },
  {
   "cell_type": "code",
   "execution_count": null,
   "id": "4e9a14ff-6a69-49b1-bfde-f0ee43508dd2",
   "metadata": {},
   "outputs": [],
   "source": []
  },
  {
   "cell_type": "code",
   "execution_count": null,
   "id": "7d9bd459-edba-437b-929b-74f3bf86e075",
   "metadata": {},
   "outputs": [],
   "source": []
  }
 ],
 "metadata": {
  "kernelspec": {
   "display_name": "Python 3 (ipykernel)",
   "language": "python",
   "name": "python3"
  },
  "language_info": {
   "codemirror_mode": {
    "name": "ipython",
    "version": 3
   },
   "file_extension": ".py",
   "mimetype": "text/x-python",
   "name": "python",
   "nbconvert_exporter": "python",
   "pygments_lexer": "ipython3",
   "version": "3.11.5"
  }
 },
 "nbformat": 4,
 "nbformat_minor": 5
}
