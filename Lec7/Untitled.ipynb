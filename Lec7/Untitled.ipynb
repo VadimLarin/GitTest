{
 "cells": [
  {
   "cell_type": "code",
   "execution_count": 3,
   "id": "75213b14-132e-4a97-be00-2d088ce10802",
   "metadata": {},
   "outputs": [],
   "source": [
    "class Bird:\n",
    "    def __init__(\n",
    "        self, \n",
    "        wings_length: float = 12.5,\n",
    "        leng_length: float = 3.5,\n",
    "        color: str = 'red',\n",
    "    ):\n",
    "        self.wings_length = wings_length\n",
    "        self.leng_length = leng_length\n",
    "        self.color = color\n",
    "        print('Bird Initialized')\n",
    "        \n",
    "    def fly(self):\n",
    "        print ('I fly')\n",
    "        \n",
    "    def swim(self):\n",
    "        print('I swim')\n",
    "        \n",
    "    def walk(self):\n",
    "        print('I walk')\n",
    "\n",
    "    def make_noise(self):\n",
    "        print('Tweet')\n",
    "        \n",
    "class RubberToy:\n",
    "    def __init__(\n",
    "        self,\n",
    "        toxic: bool = False,\n",
    "        size_cm3: float = 12,\n",
    "        color: str = 'yellow',\n",
    "    ):\n",
    "\n",
    "        self.toxic: bool = toxic\n",
    "        self.size_cm3: float = size_cm3\n",
    "        self.color: str = color\n",
    "        print('RUBtoy INIT')\n",
    "\n",
    "    def bounce(self):\n",
    "        print('plumps')\n",
    "\n",
    "    def deform(self):\n",
    "        print('morning time')\n",
    "\n",
    "    def make_noise(self):\n",
    "        print('peep')\n",
    "        \n",
    "    \n",
    "    "
   ]
  },
  {
   "cell_type": "code",
   "execution_count": null,
   "id": "27873243-aaf6-4347-a13e-37aca181b0f6",
   "metadata": {},
   "outputs": [],
   "source": [
    "bird1 = Bird()\n",
    "bird1.make_noise()"
   ]
  },
  {
   "cell_type": "code",
   "execution_count": null,
   "id": "476c5172-782c-449c-8c15-07df52b31cce",
   "metadata": {},
   "outputs": [],
   "source": [
    "toy1 = RubberToy()\n",
    "toy1.make_noise()"
   ]
  }
 ],
 "metadata": {
  "kernelspec": {
   "display_name": "Python 3 (ipykernel)",
   "language": "python",
   "name": "python3"
  },
  "language_info": {
   "codemirror_mode": {
    "name": "ipython",
    "version": 3
   },
   "file_extension": ".py",
   "mimetype": "text/x-python",
   "name": "python",
   "nbconvert_exporter": "python",
   "pygments_lexer": "ipython3",
   "version": "3.11.5"
  }
 },
 "nbformat": 4,
 "nbformat_minor": 5
}
