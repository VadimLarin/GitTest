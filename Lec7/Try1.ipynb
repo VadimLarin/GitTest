{
 "cells": [
  {
   "cell_type": "code",
   "execution_count": null,
   "id": "aefb3b07-62fb-48e4-ad0e-e39fae97a961",
   "metadata": {},
   "outputs": [],
   "source": [
    "class character:\n",
    "    def __init__(\n",
    "        self, \n",
    "        weight: float | int = 80, \n",
    "        height: float | int = 170, \n",
    "        name: str | None = None,\n",
    "    ):\n",
    "        self.weight = weight\n",
    "        self.height = height\n",
    "        self.name = name\n",
    "\n",
    "    def walk(self, speed: float | int = 1.0):\n",
    "        print('Я иду со скоростью:', speed)\n",
    "\n",
    "    def run(self, speed: float | int = 5.0):\n",
    "        if self.weight > 110:\n",
    "            print('Я не могу бегать')\n",
    "        else:\n",
    "            print('Я бегу')\n",
    "\n",
    "    def breathe(self):\n",
    "#        if self.height >= 200:\n",
    "#            print('Тут наверху трудно дышать')\n",
    "#        elif self.weight >= 180:\n",
    "#            print('Мне просто трудно дышать')\n",
    "#        elif self.iq < 60:\n",
    "#            print('Я забыл как дышать')\n",
    "#        else:\n",
    "#            print('Я дышу')\n",
    "\n",
    "class MixinPlayable:\n",
    "    def play(self):\n",
    "        print('I play')\n",
    "\n",
    "class MixinPopable:\n",
    "    def pop(self):\n",
    "        print('POOP')\n",
    "\n",
    "  \n"
   ]
  },
  {
   "cell_type": "code",
   "execution_count": null,
   "id": "76a90671-0c2a-4217-8350-f666dbb8a3ad",
   "metadata": {},
   "outputs": [],
   "source": [
    "Pudge = character()"
   ]
  },
  {
   "cell_type": "code",
   "execution_count": null,
   "id": "56f33275-a91b-42f0-b65d-d9f0be0f5976",
   "metadata": {},
   "outputs": [],
   "source": []
  }
 ],
 "metadata": {
  "kernelspec": {
   "display_name": "Python 3 (ipykernel)",
   "language": "python",
   "name": "python3"
  },
  "language_info": {
   "codemirror_mode": {
    "name": "ipython",
    "version": 3
   },
   "file_extension": ".py",
   "mimetype": "text/x-python",
   "name": "python",
   "nbconvert_exporter": "python",
   "pygments_lexer": "ipython3",
   "version": "3.11.5"
  }
 },
 "nbformat": 4,
 "nbformat_minor": 5
}
