{
 "cells": [
  {
   "cell_type": "code",
   "execution_count": null,
   "id": "b882dd73-9267-4930-b1e5-e8a885407810",
   "metadata": {},
   "outputs": [],
   "source": [
    "class MixinFlyable:\n",
    "    def fly(self):\n",
    "        print('I fly')\n",
    "\n",
    "class MixinWalkable:\n",
    "    def walk(self):\n",
    "        print('I walk')\n",
    "\n",
    "class MixinSwimable:\n",
    "    def swim(self):\n",
    "        print('I swim')\n",
    "\n",
    "class MixinTalkable:\n",
    "    def make_noise(self):\n",
    "        print('Tweet')"
   ]
  }
 ],
 "metadata": {
  "kernelspec": {
   "display_name": "Python 3 (ipykernel)",
   "language": "python",
   "name": "python3"
  },
  "language_info": {
   "codemirror_mode": {
    "name": "ipython",
    "version": 3
   },
   "file_extension": ".py",
   "mimetype": "text/x-python",
   "name": "python",
   "nbconvert_exporter": "python",
   "pygments_lexer": "ipython3",
   "version": "3.11.5"
  }
 },
 "nbformat": 4,
 "nbformat_minor": 5
}
