{
 "cells": [
  {
   "cell_type": "code",
   "execution_count": 6,
   "metadata": {},
   "outputs": [],
   "source": [
    "class MosquitoesCloud:\n",
    "    damage_per_mosquito: float = 1.7\n",
    "    mosquitoes_in_cloud: int = 5\n",
    "\n",
    "    damage = damage_per_mosquito * mosquitoes_in_cloud\n",
    "\n",
    "    def __init__(\n",
    "            self,\n",
    "            damage_per_mosquito: float = 1.7,\n",
    "            mosquitoes_in_cloud: int = 5\n",
    "\n",
    "    ):\n",
    "        if damage_per_mosquito is not None and mosquitoes_in_cloud is not None:\n",
    "            self.damage_per_mosquito = damage_per_mosquito\n",
    "            self.mosquitoes_in_cloud = mosquitoes_in_cloud\n",
    "            self.damage = damage_per_mosquito * mosquitoes_in_cloud\n",
    "        else:\n",
    "            raise ValueError (\"please provide correct variables\")\n",
    "    def __add(self, other):\n",
    "        new_mosquitoes_cloud = MosquitoesCloud(\n",
    "            damage_per_mosquito =(self.damage_per_mosquito + other.damage_per_mosquitoes),\n",
    "            mosquitoes_in_cloud = self.mosquitoes_in_cloud + other.mosquitoes_in_cloud,\n",
    "        )\n",
    "        return new_mosquitoes_cloud "
   ]
  },
  {
   "cell_type": "code",
   "execution_count": 7,
   "metadata": {},
   "outputs": [],
   "source": [
    "mcloud1 = MosquitoesCloud()"
   ]
  },
  {
   "cell_type": "code",
   "execution_count": 8,
   "metadata": {},
   "outputs": [
    {
     "data": {
      "text/plain": [
       "8.5"
      ]
     },
     "execution_count": 8,
     "metadata": {},
     "output_type": "execute_result"
    }
   ],
   "source": [
    "mcloud1.damage"
   ]
  }
 ],
 "metadata": {
  "kernelspec": {
   "display_name": "Python 3",
   "language": "python",
   "name": "python3"
  },
  "language_info": {
   "codemirror_mode": {
    "name": "ipython",
    "version": 3
   },
   "file_extension": ".py",
   "mimetype": "text/x-python",
   "name": "python",
   "nbconvert_exporter": "python",
   "pygments_lexer": "ipython3",
   "version": "3.11.5"
  },
  "orig_nbformat": 4
 },
 "nbformat": 4,
 "nbformat_minor": 2
}
