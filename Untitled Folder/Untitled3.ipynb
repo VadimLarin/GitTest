{
 "cells": [
  {
   "cell_type": "code",
   "execution_count": null,
   "id": "b4886b84-1775-4fbc-8d04-c4d3d109eb5e",
   "metadata": {},
   "outputs": [],
   "source": [
    "%pip install -q ipywidgets tqdm"
   ]
  },
  {
   "cell_type": "code",
   "execution_count": null,
   "id": "bd7c2d44-2950-49e7-b1b2-f9b388f4d5f5",
   "metadata": {},
   "outputs": [],
   "source": [
    "import time\n",
    "\n",
    "from tqdm.auto import tqdm"
   ]
  },
  {
   "cell_type": "code",
   "execution_count": null,
   "id": "8ce0d3f7-fc75-46f0-b137-6f5180ee4755",
   "metadata": {},
   "outputs": [],
   "source": [
    "a = range(0, 10_000_000)"
   ]
  },
  {
   "cell_type": "code",
   "execution_count": null,
   "id": "272b443a-9954-4299-aff1-691b9b88d170",
   "metadata": {},
   "outputs": [],
   "source": [
    "\n",
    "b = []\n",
    "\n",
    "for el in tqdm(a):\n",
    "    b.append(el**2)\n",
    "    time.sleep(0.1)\n",
    "    \n",
    "print(b)"
   ]
  },
  {
   "cell_type": "code",
   "execution_count": null,
   "id": "bbb64a6a-f959-410f-91c9-28e249309f7f",
   "metadata": {},
   "outputs": [],
   "source": []
  },
  {
   "cell_type": "code",
   "execution_count": null,
   "id": "3d476e49-8c58-4251-995f-b0ba2ee096e2",
   "metadata": {},
   "outputs": [],
   "source": []
  },
  {
   "cell_type": "code",
   "execution_count": null,
   "id": "76971b8e-7d5d-4b3b-878f-b62adbbc43c6",
   "metadata": {},
   "outputs": [],
   "source": []
  }
 ],
 "metadata": {
  "kernelspec": {
   "display_name": "Python 3 (ipykernel)",
   "language": "python",
   "name": "python3"
  },
  "language_info": {
   "codemirror_mode": {
    "name": "ipython",
    "version": 3
   },
   "file_extension": ".py",
   "mimetype": "text/x-python",
   "name": "python",
   "nbconvert_exporter": "python",
   "pygments_lexer": "ipython3",
   "version": "3.11.5"
  }
 },
 "nbformat": 4,
 "nbformat_minor": 5
}
