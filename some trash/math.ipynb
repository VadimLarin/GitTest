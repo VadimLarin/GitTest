{
 "cells": [
  {
   "cell_type": "code",
   "execution_count": 1,
   "metadata": {},
   "outputs": [],
   "source": [
    "import numpy as np"
   ]
  },
  {
   "cell_type": "code",
   "execution_count": 2,
   "metadata": {},
   "outputs": [],
   "source": [
    "\n",
    "class Matrix:\n",
    "    def __init__(self, matrix):\n",
    "        self.matrix = matrix\n",
    "        self.rows, self.cols = matrix.shape\n",
    "\n",
    "    def gram_schmidt(self):\n",
    "        basis = []\n",
    "        for i in range(self.rows):\n",
    "            vi = self.matrix[i]\n",
    "            for j in range(len(basis)):\n",
    "                proj = np.dot(vi, basis[j]) / np.dot(basis[j], basis[j])\n",
    "                vi = vi - proj * basis[j]\n",
    "            basis.append(vi)\n",
    "        \n",
    "        # Normalize the basis vectors\n",
    "        normalized_basis = [v / np.linalg.norm(v) for v in basis]\n",
    "\n",
    "        # Remove zero vectors\n",
    "        normalized_basis = [v for v in normalized_basis if not np.allclose(v, 0)]\n",
    "\n",
    "        return normalized_basis\n",
    "\n"
   ]
  },
  {
   "cell_type": "code",
   "execution_count": 3,
   "metadata": {},
   "outputs": [
    {
     "name": "stdout",
     "output_type": "stream",
     "text": [
      "f1 = [0.70710678 0.70710678]\n",
      "f2 = [ 0.70710678 -0.70710678]\n"
     ]
    }
   ],
   "source": [
    "# Пример использования\n",
    "matrix = np.array([[1, 1], [1, 0]])\n",
    "matrix_obj = Matrix(matrix)\n",
    "basis_vectors = matrix_obj.gram_schmidt()\n",
    "for i, v in enumerate(basis_vectors):\n",
    "    print(f'f{i + 1} = {v}')\n"
   ]
  }
 ],
 "metadata": {
  "kernelspec": {
   "display_name": "Python 3",
   "language": "python",
   "name": "python3"
  },
  "language_info": {
   "codemirror_mode": {
    "name": "ipython",
    "version": 3
   },
   "file_extension": ".py",
   "mimetype": "text/x-python",
   "name": "python",
   "nbconvert_exporter": "python",
   "pygments_lexer": "ipython3",
   "version": "3.11.5"
  },
  "orig_nbformat": 4
 },
 "nbformat": 4,
 "nbformat_minor": 2
}
