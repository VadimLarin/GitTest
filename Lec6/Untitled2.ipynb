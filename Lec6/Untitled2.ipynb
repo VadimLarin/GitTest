{
 "cells": [
  {
   "cell_type": "code",
   "execution_count": null,
   "id": "4adb018a-5e66-432c-a084-3f3c32763e82",
   "metadata": {},
   "outputs": [],
   "source": [
    "class character:\n",
    "#    hp = 100\n",
    "#    power\n",
    "#    name: str | None = None\n",
    "    def __init__(\n",
    "        self,\n",
    "        power: float | int,\n",
    "        skill: float | int,\n",
    "        iq: float | int,\n",
    "        speed: float | int,\n",
    "        damage: float | int,\n",
    "        name: float | int,\n",
    "    ):\n",
    "\n",
    "    def trade(self):\n",
    "        print(\"я торгуюсь\")\n",
    "    def wait(self):\n",
    "        print(\"я ждун\")\n",
    "    def think(self):\n",
    "        print(\"у меня есть мозг\")\n",
    "    def move(self):\n",
    "        print(\"у меня есть ноги\")\n",
    "\n",
    "\n",
    "    "
   ]
  },
  {
   "cell_type": "code",
   "execution_count": null,
   "id": "c28419e1-1408-4e47-b2e0-d1161dc45230",
   "metadata": {},
   "outputs": [],
   "source": []
  }
 ],
 "metadata": {
  "kernelspec": {
   "display_name": "Python 3 (ipykernel)",
   "language": "python",
   "name": "python3"
  },
  "language_info": {
   "codemirror_mode": {
    "name": "ipython",
    "version": 3
   },
   "file_extension": ".py",
   "mimetype": "text/x-python",
   "name": "python",
   "nbconvert_exporter": "python",
   "pygments_lexer": "ipython3",
   "version": "3.11.5"
  }
 },
 "nbformat": 4,
 "nbformat_minor": 5
}
