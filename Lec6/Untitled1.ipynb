{
 "cells": [
  {
   "cell_type": "code",
   "execution_count": 6,
   "id": "a5b72103-e529-4a3e-8cea-eea29585915c",
   "metadata": {},
   "outputs": [],
   "source": [
    "class Human:\n",
    "\n",
    "    weight = 80\n",
    "    height = 170\n",
    "    name = None\n",
    "    \n",
    "    def __init__()\n",
    "\n",
    "    def walk(self, speed: float | int = 1.0):\n",
    "        print(\"я иду со скоростью\")\n",
    "    def run(self):\n",
    "        print(\"я бегу\")\n",
    "    def breathe(self):\n",
    "        print(\"я дышу\")"
   ]
  },
  {
   "cell_type": "code",
   "execution_count": 7,
   "id": "3c4f08f8-9243-4a43-bf86-b38df4be0d72",
   "metadata": {},
   "outputs": [],
   "source": [
    "vova1 = Human()\n"
   ]
  },
  {
   "cell_type": "code",
   "execution_count": 8,
   "id": "5ddfbdaf-1922-4614-a8d1-e5e0eeed41e7",
   "metadata": {},
   "outputs": [
    {
     "name": "stdout",
     "output_type": "stream",
     "text": [
      "я иду\n"
     ]
    }
   ],
   "source": [
    "vova1.walk()"
   ]
  },
  {
   "cell_type": "code",
   "execution_count": 9,
   "id": "b53638c5-27b9-438f-a4d3-de7914a28db5",
   "metadata": {},
   "outputs": [],
   "source": [
    "vova1.weight\n",
    "vova1.name = 'Vova'"
   ]
  },
  {
   "cell_type": "code",
   "execution_count": 10,
   "id": "4e39b5e4-c82c-448f-ab28-399ac1d5c848",
   "metadata": {},
   "outputs": [
    {
     "data": {
      "text/plain": [
       "'Vova'"
      ]
     },
     "execution_count": 10,
     "metadata": {},
     "output_type": "execute_result"
    }
   ],
   "source": [
    "vova1.name"
   ]
  },
  {
   "cell_type": "code",
   "execution_count": null,
   "id": "f532d2b5-3f40-413a-a57e-0ce8b33a4820",
   "metadata": {},
   "outputs": [],
   "source": [
    "class HumanWorker(Human):\n",
    "    def work(self):\n",
    "        print('я работаю')\n",
    "    def "
   ]
  },
  {
   "cell_type": "code",
   "execution_count": null,
   "id": "f2856a58-fcd4-476c-92b3-54d49af203b8",
   "metadata": {},
   "outputs": [],
   "source": []
  }
 ],
 "metadata": {
  "kernelspec": {
   "display_name": "Python 3 (ipykernel)",
   "language": "python",
   "name": "python3"
  },
  "language_info": {
   "codemirror_mode": {
    "name": "ipython",
    "version": 3
   },
   "file_extension": ".py",
   "mimetype": "text/x-python",
   "name": "python",
   "nbconvert_exporter": "python",
   "pygments_lexer": "ipython3",
   "version": "3.11.5"
  }
 },
 "nbformat": 4,
 "nbformat_minor": 5
}
